{
 "cells": [
  {
   "cell_type": "markdown",
   "id": "f7336877",
   "metadata": {},
   "source": [
    "# Financial Data Reporting "
   ]
  },
  {
   "cell_type": "markdown",
   "id": "68d2d7a6",
   "metadata": {},
   "source": [
    "## --- Steps to Create DataFrame in Python and Connect to SQL --- \n",
    "### Step1. Data Preparation (Exception Handling function)\n",
    "### Step2. Check if file exists\n",
    "### Step3. Load Data\n",
    "### Step4. Data Cleaning & Create Table \n",
    "### Step5. Move \"Latest\" File to Archived Folder\n",
    "### Step6. Import  to SQL\n",
    "## -------------------------------------------------------------------------------------------"
   ]
  },
  {
   "cell_type": "markdown",
   "id": "6f514a47",
   "metadata": {},
   "source": [
    "### Step1. Data Preparation --------------------------------------------------------------------"
   ]
  },
  {
   "cell_type": "markdown",
   "id": "0eefc21f",
   "metadata": {},
   "source": [
    "#### Step1.1 Import all libraries needed"
   ]
  },
  {
   "cell_type": "code",
   "execution_count": 17,
   "id": "2d62196d",
   "metadata": {},
   "outputs": [
    {
     "name": "stdout",
     "output_type": "stream",
     "text": [
      "Step1.1 Complete!\n",
      "\n"
     ]
    }
   ],
   "source": [
    "import pandas as pd\n",
    "import numpy as np\n",
    "import os\n",
    "from os import path\n",
    "from pathlib import Path\n",
    "import sys\n",
    "from os import listdir\n",
    "from os.path import isfile, join\n",
    "import pyodbc\n",
    "import string\n",
    "from itertools import groupby\n",
    "import os.path, time\n",
    "import glob\n",
    "import datetime\n",
    "\n",
    "print(\"Step1.1 Complete!\\n\")"
   ]
  },
  {
   "cell_type": "markdown",
   "id": "7ad61ba0",
   "metadata": {},
   "source": [
    "#### Step1.2 Exception Handling function"
   ]
  },
  {
   "cell_type": "code",
   "execution_count": 18,
   "id": "4806ca72",
   "metadata": {},
   "outputs": [],
   "source": [
    "def InsertErrorMessageInSQL (ErrorLocation, ErrorMessage):\n",
    "    \"\"\" Insert Error Message/ Successful Message to SQL Corporate_KPI\"\"\"\n",
    "    ErrorList = ['Python', None, ErrorLocation, ErrorMessage] # Template message to be inserted to Translog table\n",
    "    \n",
    "    # Insert data into SQL EBITDA table \n",
    "    try:\n",
    "        cursor.execute(\"INSERT INTO translog (type, module_name, procedure_name, trans_details) VALUES (?,?,?,?)\", ErrorList)\n",
    "    \n",
    "    # If exception occurs, all data transaction will be rolled back and all data erased.\n",
    "    except Exception as e:\n",
    "        cursor.rollback()\n",
    "        print(e)\n",
    "        print('transaction rolled back')\n",
    "\n",
    "    else:\n",
    "        cursor.commit()\n",
    "        cursor.close() # keep the currsor active, otherwise close\n",
    "    \n",
    "    finally:\n",
    "        print('Error Message Successfully inserted')\n",
    "        conn.close() # Close Connection\n",
    "        exit()\n",
    "        \n",
    "    return\n"
   ]
  },
  {
   "cell_type": "code",
   "execution_count": 19,
   "id": "076df367",
   "metadata": {},
   "outputs": [
    {
     "name": "stdout",
     "output_type": "stream",
     "text": [
      " Insert Error Message/ Successful Message to SQL Corporate_KPI\n"
     ]
    }
   ],
   "source": [
    "# This is how to get comments of functions (good to look up what the function does)\n",
    "print(InsertErrorMessageInSQL.__doc__)"
   ]
  },
  {
   "cell_type": "code",
   "execution_count": 20,
   "id": "9bebbe9b",
   "metadata": {},
   "outputs": [],
   "source": [
    "# Connect to SQL Server \n",
    "# Reference: https://www.youtube.com/watch?v=LZPyuLnZI34\n",
    "\n",
    "    \n",
    "try:\n",
    "    conn = pyodbc.connect(#\"DSN=ConnectPythonWithSQL;\"\n",
    "                          \"Driver={SQL Server Native Client 11.0};\"\n",
    "                          \"Server=sqlserver4;\"\n",
    "                          \"Database=Corporate_KPI;\"\n",
    "                          \"Trusted_Connection=yes;\")\n",
    "\n",
    "except Exception as e:\n",
    "    print(e)\n",
    "    print(\"task is terminated\")\n",
    "    print(\"This error will not be inserted into SQL translog because it failed to connect to SQL to start with\")\n",
    "    exit()\n",
    "\n",
    "else:\n",
    "    # connect to cursor \n",
    "    cursor = conn.cursor()"
   ]
  },
  {
   "cell_type": "markdown",
   "id": "a1aa2cb4",
   "metadata": {},
   "source": [
    "### Step2. Check if file exists in folder --------------------------------------------------------------------"
   ]
  },
  {
   "cell_type": "code",
   "execution_count": 21,
   "id": "609ae824",
   "metadata": {},
   "outputs": [],
   "source": [
    "def create_file_list(sourcePath):\n",
    "    \"\"\"Creates list according to the files in the folder\"\"\"\n",
    "    # Get all files in the folder 'Finance'\n",
    "    fileNameList = [f for f in listdir(sourcePath) if isfile(join(sourcePath, f))]\n",
    "    # Removing all non excel (.xlsx or .xlsm) files from the list\n",
    "    fileNameList = [x for x in fileNameList if extensionFile in x or extensionFileMacro in x]\n",
    "    \n",
    "    return fileNameList"
   ]
  },
  {
   "cell_type": "code",
   "execution_count": 22,
   "id": "c2aa49a8",
   "metadata": {},
   "outputs": [],
   "source": [
    "def check_file(list_files):\n",
    "    \"\"\"Checks if Excel file exists in the Designated Folder. Exit the system if no file found\"\"\"\n",
    "    \n",
    "    #If list_file is [](empty: no file in folder), then == False\n",
    "    if bool(list_files) == False: \n",
    "        print(\"system will exit because no file detected\")\n",
    "        exit()\n",
    "        \n",
    "    return"
   ]
  },
  {
   "cell_type": "markdown",
   "id": "47087ae2",
   "metadata": {},
   "source": [
    "### Step3. Load Data --------------------------------------------------------------------"
   ]
  },
  {
   "cell_type": "code",
   "execution_count": 23,
   "id": "5e159a60",
   "metadata": {},
   "outputs": [],
   "source": [
    "def get_latest_file (sourcePath):\n",
    "    \"\"\"Get the latest uploaded file in the designated folder by the latest 'Data Modified Time' \"\"\"\n",
    "    \n",
    "    file_type = '\\*xlsx'\n",
    "    file_typeMacro = '\\*xlsm'\n",
    "    #retrieve all files with '\\*xlsx' and '\\*xlsm' wiith glob funcation\n",
    "    files = glob.glob(sourcePath + file_type)\n",
    "    files.extend(glob.glob(sourcePath + file_typeMacro)) #files.extend(list_files)\n",
    "    # get time of last modificatoin of the specific path and choose the most latest file \n",
    "    latest_file = max(files, key = os.path.getmtime) \n",
    "    file_name = os.path.basename(latest_file) # get the file name of the latest file \n",
    "    \n",
    "    return latest_file, file_name "
   ]
  },
  {
   "cell_type": "code",
   "execution_count": 24,
   "id": "e49530b0",
   "metadata": {},
   "outputs": [
    {
     "name": "stdout",
     "output_type": "stream",
     "text": [
      "['11 Dec - Consolidated Forecast- notional update MACRO ROLL FORWARD2022-01-28_09_002022-01-28_15_00.xlsm']\n",
      "11 Dec - Consolidated Forecast- notional update MACRO ROLL FORWARD2022-01-28_09_002022-01-28_15_00.xlsm is loaded!\n",
      "Step3 Complete!\n",
      "\n"
     ]
    }
   ],
   "source": [
    "try:\n",
    "    sourcePath = r\"\\\\nas1\\users\\shared files\\Database Export-Import files\\Financial\"\n",
    "    extensionFile = r\".xlsx\"\n",
    "    extensionFileMacro = r\".xlsm\"\n",
    "\n",
    "\n",
    "    #Create list of files in the folder\n",
    "    fileNameList = create_file_list(sourcePath)\n",
    "    print(fileNameList)\n",
    "\n",
    "    #if there are no file, the system will end \n",
    "    check_file(fileNameList)\n",
    "\n",
    "    #load data, if there is one file in the folder\n",
    "    if len(fileNameList) == 1: \n",
    "        # For accessing only one \"first\" file\n",
    "        df = pd.read_excel(sourcePath + r\"/\" +fileNameList[0], sheet_name = \"Consolidated- FORECAST\", header = None, index_col = None, na_values = ['None'])\n",
    "        print(fileNameList[0], \"is loaded!\") \n",
    "\n",
    "    #Load \"Latest\" File date, if there are multiple file in the folder \n",
    "    elif len(fileNameList) > 1:\n",
    "\n",
    "        # For accessing only one \"latest\" file and load\n",
    "        ouput = get_latest_file (sourcePath)\n",
    "        latest_file_result = list(ouput) # converting into list data type. Within the list, there are latest_file, file_name of the latest file\n",
    "        df = pd.read_excel(latest_file_result[0], sheet_name = \"Consolidated- FORECAST\", header = None, index_col=None, na_values=['None'])\n",
    "        print(latest_file_result[1], \"is loaded!\")\n",
    "\n",
    "        # All files except \"latest\" are moved to \"Archived\" Folder \n",
    "        for n_files in range(0, len(fileNameList)):\n",
    "            # if name of each file does not match the latest file name, then take the file to the archived folder\n",
    "            if fileNameList[n_files] != latest_file_result[1]:\n",
    "                os.rename(sourcePath + r\"/\" +fileNameList[n_files], r\"\\\\nas1\\users\\shared files\\Database Export-Import files\\Financial\\Archive\" +  r\"/\" +fileNameList[n_files][:-5]  + str(datetime.datetime.now().strftime(\"%Y-%m-%d_%H_%M\")) + fileNameList[n_files][-5:])        \n",
    "        print(\"All files except 'latest' are moved to 'Archived' Folder \")\n",
    "        \n",
    "\n",
    "except Exception as e: \n",
    "    print(e)\n",
    "    InsertErrorMessageInSQL(\"Step2/Step3, Load Data\", repr(e))\n",
    "    \n",
    "print(\"Step3 Complete!\\n\")"
   ]
  },
  {
   "cell_type": "markdown",
   "id": "4b192fce",
   "metadata": {},
   "source": [
    "### Step4. Data Cleaning & Create Table --------------------------------------------------------------------"
   ]
  },
  {
   "cell_type": "code",
   "execution_count": 25,
   "id": "df7928e7",
   "metadata": {},
   "outputs": [],
   "source": [
    "#TO DO: check for .values / why transpose?/ astype(int), argmax()\n",
    "\n",
    "# Find last \"Feburary\". This is for getting last Feb until now to get the data for a current year.\" \n",
    "def find_last_Feburary (df):\n",
    "    \"\"\" Find last \"Feburary\" column number \"\"\"\n",
    "    \n",
    "    #Create detaframe of 'row5 and column 4 until the end', 'no NA value', 'remove old index in a column','Transposed'\n",
    "    df = pd.DataFrame(df.iloc[5,4:].values).dropna(how='all').reset_index(drop = True).T \n",
    "    Feb_col = 0\n",
    "    # reverse for loop to find last feb \n",
    "    # Loops to find coloum that is 'Feburary'\n",
    "    for col_num in range(len(df.columns)-1, 0, -1):\n",
    "        if df.iloc[0,col_num] == \"Feb\":\n",
    "            Feb_col = col_num\n",
    "            break\n",
    "            \n",
    "    return Feb_col"
   ]
  },
  {
   "cell_type": "code",
   "execution_count": 26,
   "id": "d5c025e1",
   "metadata": {},
   "outputs": [],
   "source": [
    "# Find forecasts column\n",
    "def getFirstForecast(df):\n",
    "    \"\"\"Get the first month forecast\"\"\"\n",
    "    \n",
    "    #sort out data frame\n",
    "    df2 = pd.DataFrame(df.iloc[4,:].values).dropna(how='all').reset_index(drop = True)\n",
    "    # Get column number of 'Faroecast' \n",
    "    # change data type at the end \n",
    "    firstForecast = (df2.values == 'Forecast').argmax().astype(int)\n",
    "    \n",
    "    return firstForecast"
   ]
  },
  {
   "cell_type": "markdown",
   "id": "80aa6139",
   "metadata": {},
   "source": [
    "## Step 4.1 - Get the data in a format we that we want.\n",
    "### Step 4.1.1: Remove duplicate columns if a month is repeating consecutively.\n",
    "### Step 4.1.2: Use 6th row as column names.\n",
    "### Step 4.1.3: Get rows of data that contain terminal rows.\n",
    "### Step 4.1.4: Get columns of data which contain actual and forecast data.\n",
    "### Step 4.1.5: If the forecast month is Feb, then return last year's Jan + Feb, if not, return data from start of fiscal year until that month.\n",
    "### Step 4.1.6: Add BU_ID based on first column and terminal names . \n",
    "### Step 4.1.7: Drop Lynnterm 6000 because as per requirements, we do not need it. \n",
    "### Step 4.1.8: Get fiscal_year from YTDbudget column that is in the format of FYxx, change it to 20xx and add it as a new column.\n",
    "### Step 4.1.9: Add YTDBudget by searching 6th row for budget.\n",
    "\n",
    "\n",
    "\n",
    "### schema at the end of this step: [Month1, Month2, ..., MonthX, YTDBudget, BU_id, Fiscal_year]\n"
   ]
  },
  {
   "cell_type": "code",
   "execution_count": 27,
   "id": "34760bd3",
   "metadata": {},
   "outputs": [],
   "source": [
    "def getDesiredRowsAndColumns(df):\n",
    "    \"\"\"Add months, BU and budget as the column name.\n",
    "       Months and Budget are found through search in fifth row. BU is the first column.\"\"\"\n",
    "        \n",
    "    # Remove all columns with duplicated month name that is next to each other (preventing the case when Aylene puts two\n",
    "    #Feburary\" for forecasts because we will need to identify current year based on \"Feburary\")\n",
    "    # Used transpose function for dataframe here because combining dataset later and need data to be on column position\n",
    "    \n",
    "    # Copied data frame and Transpose and rename 5 to 'month' on row (axis = 1 is column, 0 is row) df will be original data frame\n",
    "    df_1 = df.copy().T.rename({5:\"months\"}, axis = 1)\n",
    "    month_name_columns = df.T.iloc[:, 5] # getting transposed data frame from column of 5\n",
    "    # drop consequtive duplicates and convert data to data frame type, and rename column 5 to month\n",
    "    no_duplicated_columns = month_name_columns.loc[month_name_columns.shift() != month_name_columns].to_frame().rename({5:\"months\"}, axis = 1)\n",
    "    removedDuplicated = df_1[df_1.months.isin(no_duplicated_columns.months)].T # filtering joins to combine two data sets and transpose to put everything back \n",
    "    df = removedDuplicated.copy()    \n",
    "\n",
    "    df.columns = df.iloc[5,:].to_list()\n",
    "    monthNames = [\"Feb\",\"Mar\",\"Apr\",\"May\",\"Jun\",\"Jul\",\"Aug\",\"Sep\",\"Oct\",\"Nov\",\"Dec\",\"Jan\"]\n",
    "    firstTerminalRow = df[df.iloc[:,0] == \"Terminals and Stevedoring\"].index.values.astype(int)[0]+1\n",
    "    lastTerminalRow = df[df.iloc[:,0] == \"Intermodal\"].index.values.astype(int)[0]-1\n",
    "    allMonthsDF = df.iloc[firstTerminalRow:lastTerminalRow,df.columns.isin(monthNames)].dropna(how='all').reset_index(drop = True)\n",
    "\n",
    "    # get latest forecast month name. This will be one of return values.\n",
    "    indexOfFirstForecastMonth = monthNames.index(allMonthsDF.iloc[:,getFirstForecast(df)].name)\n",
    "    ForecastMonth = allMonthsDF.keys().values[indexOfFirstForecastMonth]\n",
    "    \n",
    "    # if Forecasts = Feb, which means actual = Jan and forecast = feb. \n",
    "    if find_last_Feburary(df) == getFirstForecast(df):\n",
    "        ActualandForcast = allMonthsDF.iloc[:,find_last_Feburary(df)-1:getFirstForecast(df)+1] # Aqcuire Jan on previous year and Feb\n",
    "  \n",
    "    else:\n",
    "        ActualandForcast = allMonthsDF.iloc[:,find_last_Feburary(df):getFirstForecast(df)+1] # Aquire all month from feb this year \n",
    "        \n",
    "    #here is when BU and YTD budget are added\n",
    "    BU_idPlusYTDBudget = pd.DataFrame(data = {\"BU_id\":df.iloc[firstTerminalRow:lastTerminalRow,0],\"YTDBudget\":df.loc[firstTerminalRow:lastTerminalRow,\"Budget\"]}).dropna(how='all').reset_index(drop = True)\n",
    "\n",
    "    #drop last row because it is redundant\n",
    "    BU_idPlusYTDBudget = BU_idPlusYTDBudget.head(-1)\n",
    "    df2 = ActualandForcast.copy()\n",
    "    df2[\"BU_id\"] = BU_idPlusYTDBudget.BU_id\n",
    "    df2[\"YTDBudget\"] = BU_idPlusYTDBudget.YTDBudget\n",
    "\n",
    "    \n",
    "    #Drop Lynnterm 6000\n",
    "    df2 = df2.drop(df2[df2.BU_id == \"Lynnterm 6000 account\"].index.values[0],axis = 0).reset_index(drop = True)  \n",
    "    \n",
    "    #add fiscal year. This will be another return value.\n",
    "    fiscalYearHavingFY = df.iloc[3,df.iloc[5,:].values == 'Budget'].item()\n",
    "    FiscalYearEditted1 = fiscalYearHavingFY.replace('F', '2')\n",
    "    fiscalYear = FiscalYearEditted1.replace('Y', '0')\n",
    "    df2[\"Fiscal_year\"] = int(fiscalYear)\n",
    "    \n",
    "\n",
    "    \n",
    "    #return df2 because\n",
    "        #it is basically what we are reading from excel but we made some changes to format. This is main output of this function.\n",
    "    #return fiscalYear because\n",
    "        #in step 4.3.3 we want to get current fiscal year data from SQL server    \n",
    "    #return ForecastMonth because:\n",
    "        #in step 4.3.3 we want to make a differentiation between forecast and actual data columns and months.\n",
    "    #return ActualandForcast because\n",
    "        #in step 4.5 we want to limit months in SQL dataframe, to those which have new data in present months in excel sheet. \n",
    "    return df2,fiscalYear,ForecastMonth,ActualandForcast"
   ]
  },
  {
   "cell_type": "code",
   "execution_count": 28,
   "id": "1d23fa04",
   "metadata": {},
   "outputs": [
    {
     "name": "stdout",
     "output_type": "stream",
     "text": [
      "Step4.1 Complete!\n",
      "\n"
     ]
    }
   ],
   "source": [
    "try:\n",
    "    trimmedDF,fiscalYear,ForecastMonth,onlyActualandForecast = getDesiredRowsAndColumns(df)\n",
    "except Exception as e: \n",
    "    print(e)\n",
    "    InsertErrorMessageInSQL(\"Step 4.1. Data Cleaning: Get the data in a format we that we want\",repr(e))\n",
    "\n",
    "    \n",
    "print(\"Step4.1 Complete!\\n\")\n"
   ]
  },
  {
   "cell_type": "markdown",
   "id": "c079f9cb",
   "metadata": {},
   "source": [
    "## Step4.2: From previous step, expand the month columns so we will not have column months anymore. Rather, we will have multiple rows for each month."
   ]
  },
  {
   "cell_type": "code",
   "execution_count": 29,
   "id": "2ac52c0e",
   "metadata": {},
   "outputs": [],
   "source": [
    "def getExpandedMonths(trimmedDF):\n",
    "    expandMonths = trimmedDF.melt(id_vars = ['Fiscal_year','BU_id','YTDBudget'], var_name='Fiscal_month', value_name='Actual')\n",
    "    expandMonths = expandMonths.reindex(columns = expandMonths.columns.tolist() + [\"Forecasts\"])\n",
    "\n",
    "    #read as new column in expandMonths, known as Forecasts equals ..\n",
    "    expandMonths['Forecasts'].where(~(expandMonths.Fiscal_month == ForecastMonth), other= expandMonths['Actual'], inplace=True)\n",
    "    expandMonths['Actual'].where(~(expandMonths.Fiscal_month == ForecastMonth), other= None, inplace=True)\n",
    "    expandMonths['YTDBudget'].where(~(expandMonths.Fiscal_month != ForecastMonth), other= None, inplace=True)\n",
    "    #change the position of columns\n",
    "    new_cols = ['Fiscal_year','Fiscal_month','BU_id','Actual','Forecasts','YTDBudget']\n",
    "    expandMonths=expandMonths.reindex(columns=new_cols)\n",
    "    return expandMonths"
   ]
  },
  {
   "cell_type": "code",
   "execution_count": 30,
   "id": "a3feac71",
   "metadata": {},
   "outputs": [
    {
     "name": "stdout",
     "output_type": "stream",
     "text": [
      "Step4.2 Complete!\n",
      "\n"
     ]
    }
   ],
   "source": [
    "try:\n",
    "    expandMonths = getExpandedMonths(trimmedDF)\n",
    "    \n",
    "except Exception as e: \n",
    "    print(e)\n",
    "    InsertErrorMessageInSQL(\"Step 4.2. Data Cleaning: From previous step, expand the month columns to have multiple rows for each month.\",repr(e))\n",
    "\n",
    "\n",
    "print(\"Step4.2 Complete!\\n\")\n",
    "    "
   ]
  },
  {
   "cell_type": "markdown",
   "id": "2399890e",
   "metadata": {},
   "source": [
    "## From this step onwards, we start a process of getting the current year's data from SQL. The reason we do that is because in order to calculate monthly budget, we need to get sum of up to last month's budget from SQL and then decrease it from ytdBudget we currently have. So that is how we are going to do it."
   ]
  },
  {
   "cell_type": "markdown",
   "id": "dce3b48c",
   "metadata": {},
   "source": [
    "## Step4.3: Connect to SQL server, get EBITDA and BU tables then join them to get BU names on EBITDA instead of id. After that, limit the data to first month of current fiscal year up to current month, and get sum of budgets for each BU.\n",
    "\n",
    "### Step 4.3.1: Connect to SQL server and get data \n",
    "### Step 4.3.2: Join the tables received from SQL to get BU names instead of BU_ID. This is used becasue in editted excel data, also known as TrimmedDF2, we have BU names and later we want to join this dataframe with TrimmedDF.\n",
    "### Step 4.3.3: Limit the data to read from SQL: Get the data from SQL only for when the fiscal year equals the fiscal year in excel sheet. Then get the data from start of fiscal year until the previous ACTUAL month(no forecast) . We are going to calculate sum of budgets by BU based sum of previous months from current fiscal year. \n",
    "### Step 4.3.4: get a number as sum of budgets for each BU based on SQLcurrentYearandYTDMonths. So we will calculate sum of budgets based on each terminal for the CURRENT FISCAL YEAR and MONTHS that we have actual data from SQL.\n",
    "\n",
    "### schema at the end of this step: [BU, Dollar amount]"
   ]
  },
  {
   "cell_type": "code",
   "execution_count": 36,
   "id": "e5b39288",
   "metadata": {},
   "outputs": [],
   "source": [
    "def getSQLDataYTDBudgetGroupByBU(onlyActualandForecast,ForecastMonth,fiscalYear):\n",
    "    \n",
    "    #Get data of EBITDA table from SQL\n",
    "    results = cursor.execute(\"SELECT * FROM dbo.EBITDA\").fetchall()\n",
    "    # Convert pyodbc.Row to dict (data types)\n",
    "    dictionary_sqlEBITDA = []\n",
    "    sqlEBITDA_columnNames = [column[0] for column in cursor.description]\n",
    "    for record in results:\n",
    "        dictionary_sqlEBITDA.append(dict(zip(sqlEBITDA_columnNames, record)))\n",
    "    sqlEBITDA = pd.DataFrame(dictionary_sqlEBITDA)  \n",
    "    \n",
    "    #Get data of BU table from SQL\n",
    "    results = cursor.execute(\"SELECT * FROM dbo.BU\").fetchall()\n",
    "    # Convert pyodbc.Row to dict (data types)\n",
    "    dictionary_BU = []\n",
    "    BU_columnNames = [column[0] for column in cursor.description]\n",
    "    for record in results:\n",
    "        dictionary_BU.append(dict(zip(BU_columnNames, record)))\n",
    "    sqlBU = pd.DataFrame(dictionary_BU)\n",
    "    \n",
    "    #Step 4.3.2: Join the tables received from SQL to get BU names instead of BU_ID. \n",
    "    #This is used becasue in editted excel data, also known as TrimmedDF2, we have BU names and later we want to \n",
    "    #join this dataframe with TrimmedDF.\n",
    "    joinsqlEBITDAandBU = pd.merge(sqlEBITDA, sqlBU, left_on = 'BU_id', right_on = 'id').drop(['id_x','BU_id','Desc','id_y'],axis=1)\n",
    "    \n",
    "    # Step 4.3.3: Limit the data to read from SQL: Get the data from SQL only for when the fiscal year equals the \n",
    "    #fiscal year in excel sheet. Then get the data from start of fiscal year until the previous ACTUAL month(no forecast). \n",
    "    #We are going to calculate sum of budgets by BU based sum of previous months from current fiscal year. \n",
    "    SQLcurrentYear = joinsqlEBITDAandBU[joinsqlEBITDAandBU['Fiscal_year']==fiscalYear]\n",
    "    allMonths = onlyActualandForecast.columns.values\n",
    "    allMonthsExceptForcast = allMonths[allMonths != ForecastMonth]\n",
    "    SQLcurrentYearandYTDMonths = SQLcurrentYear[SQLcurrentYear.Fiscal_month.isin(allMonthsExceptForcast)]\n",
    "    \n",
    "    #### Step 4.3.4: get a number as sum of budgets for each BU based on SQLcurrentYearandYTDMonths. So we will calculate\n",
    "    #sum of budgets based on each terminal for the CURRENT FISCAL YEAR and MONTHS that we have actual data from SQL.\n",
    "    #join on id to get BU Name instead of BU ids in sqlEBITDA. \n",
    "    #In joined dataframe, the new column is called BU and not BU_id anymore    \n",
    "    SQLBudgetGroupByBU = SQLcurrentYearandYTDMonths.groupby(by='BU_Financial').sum().Budgets\n",
    "    SQLBudgetGroupByBU.name = \"SumofPreviousMonthBudgets\"\n",
    "    return SQLBudgetGroupByBU,allMonthsExceptForcast"
   ]
  },
  {
   "cell_type": "code",
   "execution_count": 38,
   "id": "2c035c89",
   "metadata": {},
   "outputs": [
    {
     "name": "stdout",
     "output_type": "stream",
     "text": [
      "too many values to unpack (expected 2)\n",
      "('22001', '[22001] [Microsoft][SQL Server Native Client 11.0][SQL Server]String or binary data would be truncated. (8152) (SQLExecDirectW); [22001] [Microsoft][SQL Server Native Client 11.0][SQL Server]The statement has been terminated. (3621)')\n",
      "transaction rolled back\n",
      "Error Message Successfully inserted\n",
      "Step4.3 Complete!\n",
      "\n"
     ]
    },
    {
     "data": {
      "text/plain": [
       "BU_Financial\n",
       "BCVPC                          -153771.252\n",
       "CVS/ PNWTS                     -889945.053\n",
       "G3- Post construction fee      1833333.333\n",
       "LogCo                           551538.462\n",
       "Lynnterm EBITDA                3628464.923\n",
       "Lynnterm Operational EBITDA    3628464.923\n",
       "Other                           979168.054\n",
       "Ship Ops- Island               1994062.000\n",
       "Ship Ops- Mainland             4183880.902\n",
       "Squamish                       1424855.077\n",
       "Tidal Harmony/Cowbay            119538.462\n",
       "Univar                          646153.846\n",
       "Victoria/ Ogden Point          -888645.743\n",
       "Name: SumofPreviousMonthBudgets, dtype: object"
      ]
     },
     "execution_count": 38,
     "metadata": {},
     "output_type": "execute_result"
    }
   ],
   "source": [
    "try:\n",
    "    SQLBudgetGroupByBU,allMonthsExceptForcast = getSQLDataYTDBudgetGroupByBU(onlyActualandForecast,ForecastMonth,fiscalYear)\n",
    "except Exception as e: \n",
    "    print(e)\n",
    "    InsertErrorMessageInSQL(\"Step4.3. Data Cleaning: Connect to SQL server, get EBITDA and BU tables then get sum of budget by BU.\",repr(e))\n",
    "\n",
    "print(\"Step4.3 Complete!\\n\")\n",
    "SQLBudgetGroupByBU"
   ]
  },
  {
   "cell_type": "markdown",
   "id": "47522926",
   "metadata": {},
   "source": [
    "## Step 4.4: We know in expandMonths, only the latest month contains YTD budget, one budget for each BU. Now we want to change that YTD budget to current month's based on calculation in last step, SQLBudgetGroupByBU. In last step we got budget from start of current fiscal year to previous month. Therefore, if we calculate YTDBudget in expandMonths - BU Budgets in SQLBudgetGroupByBU, we get the monthly budget.\n",
    "\n",
    "## Step 4.4.1: Filter expandMonths from 4.2 data to current year and months. Differentiate forecast data from actual data.  \n",
    "## Step 4.4.2: If forecast month is Feb then just return forecast data from previous step. That's because in this case ytdBudget = Budget. Note: if the forecast month is february, we are going to have problems with fiscal year because fiscal year is now x+1 and we have forecast for february x+1 but we also have actual data for January x so we found a way to handle that by deducing the January year - 1.\n",
    "## Step 4.4.3: Else, inner join forecast data with SQLBudgetGroupByBU from 4.4 by BU. Then calculate budget = excel dataframe YTDbudget - BUbudget (sum of all previous months.)  \n",
    "\n",
    "## Step 4.4.4: Now append the actual data and forecast data with budget per month, and this is our final dataframe. \n",
    "## Step 4.4.5: Finally, fix the formatting of years and change NA values to None because it might get problematic in SQL server. \n"
   ]
  },
  {
   "cell_type": "code",
   "execution_count": 17,
   "id": "c21cb87d",
   "metadata": {},
   "outputs": [],
   "source": [
    "def calculateMonthlyBudget(expandMonths, SQLBudgetGroupByBU,allMonthsExceptForcast):\n",
    "    #get current month and year data in expandMonths. It contains all the values we want plus \n",
    "    #YTD budget and we want to change that to monthly budget.\n",
    "    currentYearDataInExpandMonths = expandMonths[expandMonths['Fiscal_year']==int(fiscalYear)]\n",
    "    forecastDataInExpandMonths = currentYearDataInExpandMonths[~currentYearDataInExpandMonths.Fiscal_month.isin(allMonthsExceptForcast)]\n",
    "    \n",
    "    actualDataInExpandMonths = currentYearDataInExpandMonths[currentYearDataInExpandMonths.Fiscal_month.isin(allMonthsExceptForcast)]\n",
    "    actualDataInExpandMonths = actualDataInExpandMonths.drop('YTDBudget',axis = 1)\n",
    "\n",
    "\n",
    "    #Join with SQLBudgetGroupByBU to get until last month's YTD budget\n",
    "    #Read if the forecast month is february...\n",
    "    if find_last_Feburary(df) == getFirstForecast(df):\n",
    "        print(\"Feburary value is Forecast\")\n",
    "        #Here just get February data from expandMonths and do not do any joins with SQL because actually here YTDBudget = Budget in SQL\n",
    "        joinedSQLandExcelForecastForBudget = expandMonths[expandMonths['Fiscal_month']== 'Feb'].rename(columns = {'YTDBudget':'Budgets'})\n",
    "        actualDataInExpandMonths.Fiscal_year = actualDataInExpandMonths.Fiscal_year - 1 \n",
    "\n",
    "    else:\n",
    "        print(\"Feburary value is Actual\")\n",
    "        joinedSQLandExcelForecastForBudget = pd.merge(forecastDataInExpandMonths, SQLBudgetGroupByBU, left_on = 'BU_id', right_on = 'BU_Financial')\n",
    "        #Formula\n",
    "        joinedSQLandExcelForecastForBudget['Budgets'] = joinedSQLandExcelForecastForBudget['YTDBudget'] - (joinedSQLandExcelForecastForBudget['SumofPreviousMonthBudgets']).astype(float)\n",
    "        joinedSQLandExcelForecastForBudget=joinedSQLandExcelForecastForBudget.drop([\"SumofPreviousMonthBudgets\",\"YTDBudget\"],axis = 1)\n",
    "\n",
    "\n",
    "    #Append with rest of data\n",
    "    result = actualDataInExpandMonths.append(joinedSQLandExcelForecastForBudget)\n",
    "\n",
    "    #Fix the formating and None values\n",
    "    result[\"Fiscal_year\"] = result[\"Fiscal_year\"].astype(int)\n",
    "    result[\"Fiscal_month\"] = result[\"Fiscal_month\"].astype(str)\n",
    "    result[\"Actual\"] = result[\"Actual\"].astype(float)\n",
    "    result[\"Forecasts\"] = result[\"Forecasts\"].astype(float)\n",
    "    result[\"Budgets\"] = result[\"Budgets\"].astype(float)\n",
    "\n",
    "    result[\"Actual\"] = result[\"Actual\"].replace({np.nan:None})\n",
    "    result[\"Forecasts\"] = result[\"Forecasts\"].replace({np.nan:None})\n",
    "    result[\"Budgets\"] = result[\"Budgets\"].replace({np.nan:None})\n",
    "    return result\n",
    "    \n"
   ]
  },
  {
   "cell_type": "code",
   "execution_count": 18,
   "id": "994d29fe",
   "metadata": {},
   "outputs": [
    {
     "name": "stdout",
     "output_type": "stream",
     "text": [
      "Feburary value is Actual\n",
      "Step4.4 Complete!\n",
      "\n"
     ]
    }
   ],
   "source": [
    "try:\n",
    "    result = calculateMonthlyBudget(expandMonths, SQLBudgetGroupByBU,allMonthsExceptForcast)\n",
    "    final_table = result\n",
    "except Exception as e: \n",
    "    print(e)\n",
    "    InsertErrorMessageInSQL(\"Step 4.4: Data Cleaning: we calculate YTDBudget in expandMonths - BU Budgets in SQLBudgetGroupByBU, we get the monthly budget.\",repr(e))\n",
    "\n",
    "print(\"Step4.4 Complete!\\n\")"
   ]
  },
  {
   "cell_type": "markdown",
   "id": "90f955c9",
   "metadata": {},
   "source": [
    "### Step5. Move \"Latest\" File to Archived Folder --------------------------------------------------------------------\n"
   ]
  },
  {
   "cell_type": "code",
   "execution_count": 19,
   "id": "8c215876",
   "metadata": {},
   "outputs": [
    {
     "name": "stdout",
     "output_type": "stream",
     "text": [
      "Step5 Complete!\n",
      "\n"
     ]
    }
   ],
   "source": [
    "# Acquire file in the Designated Folder (file that are left in folder)\n",
    "try:\n",
    "    fileNameList_Latest = create_file_list(sourcePath) # at this point, there will be only one file existed in this list (in the folder) if tehre are multiple files, then moved in Step 3\n",
    "    # When transfering the file into Archived folder, by adding date and time on file name avoide having multiple exact same file on Archived folder. Otherwise error would occur.\n",
    "    os.rename(sourcePath + r\"/\" +fileNameList_Latest[0] , r\"\\\\nas1\\users\\shared files\\Database Export-Import files\\Financial\\Archive\" + r\"/\" +fileNameList_Latest[0][:-5]  + str(datetime.datetime.now().strftime(\"%Y-%m-%d_%H_%M\")) + fileNameList_Latest[0][-5:])   \n",
    "\n",
    "except Exception as e: \n",
    "    print(e)\n",
    "    InsertErrorMessageInSQL(\"Step5. Move'Latest' File to Archived Folder\",repr(e))\n",
    "    print(\"Step5 Complete!\\n\")\n",
    "\n",
    "print(\"Step5 Complete!\\n\")\n"
   ]
  },
  {
   "cell_type": "markdown",
   "id": "3e0d00bb",
   "metadata": {},
   "source": [
    "### Step.6 Import to SQL --------------------------------------------------------------------"
   ]
  },
  {
   "cell_type": "code",
   "execution_count": 20,
   "id": "ccab07d5",
   "metadata": {},
   "outputs": [
    {
     "data": {
      "text/html": [
       "<div>\n",
       "<style scoped>\n",
       "    .dataframe tbody tr th:only-of-type {\n",
       "        vertical-align: middle;\n",
       "    }\n",
       "\n",
       "    .dataframe tbody tr th {\n",
       "        vertical-align: top;\n",
       "    }\n",
       "\n",
       "    .dataframe thead th {\n",
       "        text-align: right;\n",
       "    }\n",
       "</style>\n",
       "<table border=\"1\" class=\"dataframe\">\n",
       "  <thead>\n",
       "    <tr style=\"text-align: right;\">\n",
       "      <th></th>\n",
       "      <th>Fiscal_year</th>\n",
       "      <th>Fiscal_month</th>\n",
       "      <th>BU_id</th>\n",
       "      <th>Actual</th>\n",
       "      <th>Forecasts</th>\n",
       "      <th>Budgets</th>\n",
       "    </tr>\n",
       "  </thead>\n",
       "  <tbody>\n",
       "    <tr>\n",
       "      <th>0</th>\n",
       "      <td>2022</td>\n",
       "      <td>Feb</td>\n",
       "      <td>Ship Ops- Mainland</td>\n",
       "      <td>171947.39</td>\n",
       "      <td>None</td>\n",
       "      <td>None</td>\n",
       "    </tr>\n",
       "    <tr>\n",
       "      <th>1</th>\n",
       "      <td>2022</td>\n",
       "      <td>Feb</td>\n",
       "      <td>Ship Ops- Island</td>\n",
       "      <td>170609.0</td>\n",
       "      <td>None</td>\n",
       "      <td>None</td>\n",
       "    </tr>\n",
       "    <tr>\n",
       "      <th>2</th>\n",
       "      <td>2022</td>\n",
       "      <td>Feb</td>\n",
       "      <td>Univar</td>\n",
       "      <td>50287.6</td>\n",
       "      <td>None</td>\n",
       "      <td>None</td>\n",
       "    </tr>\n",
       "    <tr>\n",
       "      <th>3</th>\n",
       "      <td>2022</td>\n",
       "      <td>Feb</td>\n",
       "      <td>Other</td>\n",
       "      <td>97539.01</td>\n",
       "      <td>None</td>\n",
       "      <td>None</td>\n",
       "    </tr>\n",
       "    <tr>\n",
       "      <th>4</th>\n",
       "      <td>2022</td>\n",
       "      <td>Feb</td>\n",
       "      <td>Victoria/ Ogden Point</td>\n",
       "      <td>-97571.44</td>\n",
       "      <td>None</td>\n",
       "      <td>None</td>\n",
       "    </tr>\n",
       "    <tr>\n",
       "      <th>...</th>\n",
       "      <td>...</td>\n",
       "      <td>...</td>\n",
       "      <td>...</td>\n",
       "      <td>...</td>\n",
       "      <td>...</td>\n",
       "      <td>...</td>\n",
       "    </tr>\n",
       "    <tr>\n",
       "      <th>8</th>\n",
       "      <td>2022</td>\n",
       "      <td>Dec</td>\n",
       "      <td>Squamish</td>\n",
       "      <td>None</td>\n",
       "      <td>23014.0</td>\n",
       "      <td>148422.403923</td>\n",
       "    </tr>\n",
       "    <tr>\n",
       "      <th>9</th>\n",
       "      <td>2022</td>\n",
       "      <td>Dec</td>\n",
       "      <td>LogCo</td>\n",
       "      <td>None</td>\n",
       "      <td>60000.0</td>\n",
       "      <td>57451.923538</td>\n",
       "    </tr>\n",
       "    <tr>\n",
       "      <th>10</th>\n",
       "      <td>2022</td>\n",
       "      <td>Dec</td>\n",
       "      <td>G3- Post construction fee</td>\n",
       "      <td>None</td>\n",
       "      <td>166666.0</td>\n",
       "      <td>166666.666333</td>\n",
       "    </tr>\n",
       "    <tr>\n",
       "      <th>11</th>\n",
       "      <td>2022</td>\n",
       "      <td>Dec</td>\n",
       "      <td>Lynnterm Operational EBITDA</td>\n",
       "      <td>None</td>\n",
       "      <td>927945.0</td>\n",
       "      <td>None</td>\n",
       "    </tr>\n",
       "    <tr>\n",
       "      <th>12</th>\n",
       "      <td>2022</td>\n",
       "      <td>Dec</td>\n",
       "      <td>Lynnterm EBITDA</td>\n",
       "      <td>None</td>\n",
       "      <td>501945.0</td>\n",
       "      <td>377965.096077</td>\n",
       "    </tr>\n",
       "  </tbody>\n",
       "</table>\n",
       "<p>143 rows × 6 columns</p>\n",
       "</div>"
      ],
      "text/plain": [
       "    Fiscal_year Fiscal_month                        BU_id     Actual  \\\n",
       "0          2022          Feb           Ship Ops- Mainland  171947.39   \n",
       "1          2022          Feb             Ship Ops- Island   170609.0   \n",
       "2          2022          Feb                       Univar    50287.6   \n",
       "3          2022          Feb                        Other   97539.01   \n",
       "4          2022          Feb        Victoria/ Ogden Point  -97571.44   \n",
       "..          ...          ...                          ...        ...   \n",
       "8          2022          Dec                     Squamish       None   \n",
       "9          2022          Dec                        LogCo       None   \n",
       "10         2022          Dec    G3- Post construction fee       None   \n",
       "11         2022          Dec  Lynnterm Operational EBITDA       None   \n",
       "12         2022          Dec              Lynnterm EBITDA       None   \n",
       "\n",
       "   Forecasts        Budgets  \n",
       "0       None           None  \n",
       "1       None           None  \n",
       "2       None           None  \n",
       "3       None           None  \n",
       "4       None           None  \n",
       "..       ...            ...  \n",
       "8    23014.0  148422.403923  \n",
       "9    60000.0   57451.923538  \n",
       "10  166666.0  166666.666333  \n",
       "11  927945.0           None  \n",
       "12  501945.0  377965.096077  \n",
       "\n",
       "[143 rows x 6 columns]"
      ]
     },
     "execution_count": 20,
     "metadata": {},
     "output_type": "execute_result"
    }
   ],
   "source": [
    "final_table"
   ]
  },
  {
   "cell_type": "markdown",
   "id": "9c7594ce",
   "metadata": {},
   "source": [
    "#### Step6.1 Aqcure BU table & Convert BU_id"
   ]
  },
  {
   "cell_type": "code",
   "execution_count": 21,
   "id": "c9866a47",
   "metadata": {},
   "outputs": [
    {
     "name": "stdout",
     "output_type": "stream",
     "text": [
      "Step6.1 Complete!\n",
      "\n"
     ]
    }
   ],
   "source": [
    "#Get data of bu table from SQL and replace BU name to BU ID \n",
    "try\n",
    "    #Get data of bu table from SQL\n",
    "    resultss = cursor.execute(\"SELECT * FROM dbo.bu\").fetchall()\n",
    "\n",
    "    # Convert pyodbc.Row to dict (data types)\n",
    "    # build a list of column names and zip with each row to produce a list of dictionaries\n",
    "    insertObject = [] # create empty list to append lists of data later\n",
    "    # Get columns's names from 'resultss'\n",
    "    columnNames = [column[0] for column in cursor.description]\n",
    "    for record in resultss:\n",
    "        insertObject.append(dict(zip(columnNames, record))) # zip with each row and column to produce a list of dictionaries\n",
    "\n",
    "    # Replace BU name with BU id using bu table from SQL ( final table = table we have been working on here, insertObject = bu table from SQL)\n",
    "    for num_BU in range(0, len(final_table[\"BU_id\"].tolist())): # convert into list data type to COUNT BU id in 'final table'\n",
    "        for num_BU_Table in range (0, len(insertObject)): # this for loop counts number of lists of insertObject\n",
    "            if insertObject[num_BU_Table][\"BU_Financial\"] == final_table.iloc[num_BU,2]: # loop to find data in BU-Financial column from BU table in SQL matches with data in BU name in final table \n",
    "                # replace BU name to BU id of SQl bu table in final table \n",
    "                final_table[\"BU_id\"].replace({final_table.iloc[num_BU,2]:insertObject[num_BU_Table][\"id\"]}, inplace=True)\n",
    "\n",
    "\n",
    "except Exception as e: \n",
    "    print(e)\n",
    "    InsertErrorMessageInSQL(\"Step6.1 Aqcure BU table & Convert BU_id\",repr(e))\n",
    "    \n",
    "print(\"Step6.1 Complete!\\n\")\n"
   ]
  },
  {
   "cell_type": "code",
   "execution_count": 22,
   "id": "520a19e4",
   "metadata": {},
   "outputs": [
    {
     "data": {
      "text/html": [
       "<div>\n",
       "<style scoped>\n",
       "    .dataframe tbody tr th:only-of-type {\n",
       "        vertical-align: middle;\n",
       "    }\n",
       "\n",
       "    .dataframe tbody tr th {\n",
       "        vertical-align: top;\n",
       "    }\n",
       "\n",
       "    .dataframe thead th {\n",
       "        text-align: right;\n",
       "    }\n",
       "</style>\n",
       "<table border=\"1\" class=\"dataframe\">\n",
       "  <thead>\n",
       "    <tr style=\"text-align: right;\">\n",
       "      <th></th>\n",
       "      <th>Fiscal_year</th>\n",
       "      <th>Fiscal_month</th>\n",
       "      <th>BU_id</th>\n",
       "      <th>Actual</th>\n",
       "      <th>Forecasts</th>\n",
       "      <th>Budgets</th>\n",
       "    </tr>\n",
       "  </thead>\n",
       "  <tbody>\n",
       "    <tr>\n",
       "      <th>0</th>\n",
       "      <td>2022</td>\n",
       "      <td>Feb</td>\n",
       "      <td>1</td>\n",
       "      <td>171947.39</td>\n",
       "      <td>None</td>\n",
       "      <td>None</td>\n",
       "    </tr>\n",
       "    <tr>\n",
       "      <th>1</th>\n",
       "      <td>2022</td>\n",
       "      <td>Feb</td>\n",
       "      <td>2</td>\n",
       "      <td>170609.0</td>\n",
       "      <td>None</td>\n",
       "      <td>None</td>\n",
       "    </tr>\n",
       "    <tr>\n",
       "      <th>2</th>\n",
       "      <td>2022</td>\n",
       "      <td>Feb</td>\n",
       "      <td>3</td>\n",
       "      <td>50287.6</td>\n",
       "      <td>None</td>\n",
       "      <td>None</td>\n",
       "    </tr>\n",
       "    <tr>\n",
       "      <th>3</th>\n",
       "      <td>2022</td>\n",
       "      <td>Feb</td>\n",
       "      <td>4</td>\n",
       "      <td>97539.01</td>\n",
       "      <td>None</td>\n",
       "      <td>None</td>\n",
       "    </tr>\n",
       "    <tr>\n",
       "      <th>4</th>\n",
       "      <td>2022</td>\n",
       "      <td>Feb</td>\n",
       "      <td>5</td>\n",
       "      <td>-97571.44</td>\n",
       "      <td>None</td>\n",
       "      <td>None</td>\n",
       "    </tr>\n",
       "    <tr>\n",
       "      <th>...</th>\n",
       "      <td>...</td>\n",
       "      <td>...</td>\n",
       "      <td>...</td>\n",
       "      <td>...</td>\n",
       "      <td>...</td>\n",
       "      <td>...</td>\n",
       "    </tr>\n",
       "    <tr>\n",
       "      <th>8</th>\n",
       "      <td>2022</td>\n",
       "      <td>Dec</td>\n",
       "      <td>9</td>\n",
       "      <td>None</td>\n",
       "      <td>23014.0</td>\n",
       "      <td>148422.403923</td>\n",
       "    </tr>\n",
       "    <tr>\n",
       "      <th>9</th>\n",
       "      <td>2022</td>\n",
       "      <td>Dec</td>\n",
       "      <td>10</td>\n",
       "      <td>None</td>\n",
       "      <td>60000.0</td>\n",
       "      <td>57451.923538</td>\n",
       "    </tr>\n",
       "    <tr>\n",
       "      <th>10</th>\n",
       "      <td>2022</td>\n",
       "      <td>Dec</td>\n",
       "      <td>11</td>\n",
       "      <td>None</td>\n",
       "      <td>166666.0</td>\n",
       "      <td>166666.666333</td>\n",
       "    </tr>\n",
       "    <tr>\n",
       "      <th>11</th>\n",
       "      <td>2022</td>\n",
       "      <td>Dec</td>\n",
       "      <td>13</td>\n",
       "      <td>None</td>\n",
       "      <td>927945.0</td>\n",
       "      <td>None</td>\n",
       "    </tr>\n",
       "    <tr>\n",
       "      <th>12</th>\n",
       "      <td>2022</td>\n",
       "      <td>Dec</td>\n",
       "      <td>12</td>\n",
       "      <td>None</td>\n",
       "      <td>501945.0</td>\n",
       "      <td>377965.096077</td>\n",
       "    </tr>\n",
       "  </tbody>\n",
       "</table>\n",
       "<p>143 rows × 6 columns</p>\n",
       "</div>"
      ],
      "text/plain": [
       "    Fiscal_year Fiscal_month  BU_id     Actual Forecasts        Budgets\n",
       "0          2022          Feb      1  171947.39      None           None\n",
       "1          2022          Feb      2   170609.0      None           None\n",
       "2          2022          Feb      3    50287.6      None           None\n",
       "3          2022          Feb      4   97539.01      None           None\n",
       "4          2022          Feb      5  -97571.44      None           None\n",
       "..          ...          ...    ...        ...       ...            ...\n",
       "8          2022          Dec      9       None   23014.0  148422.403923\n",
       "9          2022          Dec     10       None   60000.0   57451.923538\n",
       "10         2022          Dec     11       None  166666.0  166666.666333\n",
       "11         2022          Dec     13       None  927945.0           None\n",
       "12         2022          Dec     12       None  501945.0  377965.096077\n",
       "\n",
       "[143 rows x 6 columns]"
      ]
     },
     "execution_count": 22,
     "metadata": {},
     "output_type": "execute_result"
    }
   ],
   "source": [
    "final_table"
   ]
  },
  {
   "cell_type": "markdown",
   "id": "8d3dee98",
   "metadata": {},
   "source": [
    "#### Step6.2. Insert Value into EITDA Table in SQL Server"
   ]
  },
  {
   "cell_type": "code",
   "execution_count": 23,
   "id": "fb1ba765",
   "metadata": {},
   "outputs": [],
   "source": [
    "#Prepare the Stored procedure execution script and parameter \n",
    "storedProc = \"Exec [dbo].[spEBITDA] @Fiscal_year =?, @Fiscal_month =?, @BU_id =?, @Actual =?, @Forecasts =?, @Budgets =?\""
   ]
  },
  {
   "cell_type": "code",
   "execution_count": 24,
   "id": "46569eb1",
   "metadata": {},
   "outputs": [],
   "source": [
    "#Create List of final table to insert into SQL\n",
    "final_list = final_table.values.tolist()"
   ]
  },
  {
   "cell_type": "code",
   "execution_count": 25,
   "id": "8fa5d0e4",
   "metadata": {},
   "outputs": [
    {
     "name": "stdout",
     "output_type": "stream",
     "text": [
      "records inserted successfully\n",
      "connection closed\n",
      "Step6.2 Complete!\n",
      "\n",
      "All Done\n"
     ]
    }
   ],
   "source": [
    "# insert data into SQL EBITDA table \n",
    "try:\n",
    "    cursor.fast_executemany = True\n",
    "    cursor.executemany(storedProc, final_list)\n",
    "    # str(final_table.iat[-1,1] = month name of excel sheet (actual month name) \n",
    "    SucMSGList = ['Python', None, \"Data Inserted Successfully for \"+str(final_table.iat[-1,1]), 'No Error']\n",
    "    \n",
    "    # Insert data into SQL EBITDA table \n",
    "    cursor.execute(\"INSERT INTO translog (type, module_name, procedure_name, trans_details) VALUES (?,?,?,?)\", SucMSGList)\n",
    "    \n",
    "    \n",
    "except Exception as e:\n",
    "    cursor.rollback()\n",
    "    print(e.value)\n",
    "    print('transaction rolled back')\n",
    "    InsertErrorMessageInSQL(\"Step6.2. Insert Value into EITDA Table in SQL Server\",repr(e))\n",
    "\n",
    "else:\n",
    "    print('records inserted successfully')\n",
    "    cursor.commit()\n",
    "    cursor.close() # data manipulation, keep the currsor active, otherwise close\n",
    "finally:\n",
    "    print('connection closed')\n",
    "    conn.close() #Close Connection\n",
    "    \n",
    "print(\"Step6.2 Complete!\\n\")\n",
    "print(\"All Done\")\n",
    "exit()"
   ]
  },
  {
   "cell_type": "code",
   "execution_count": null,
   "id": "41a6a09f",
   "metadata": {},
   "outputs": [],
   "source": []
  },
  {
   "cell_type": "code",
   "execution_count": null,
   "id": "5e620c32",
   "metadata": {},
   "outputs": [],
   "source": []
  }
 ],
 "metadata": {
  "kernelspec": {
   "display_name": "Python 3",
   "language": "python",
   "name": "python3"
  },
  "language_info": {
   "codemirror_mode": {
    "name": "ipython",
    "version": 3
   },
   "file_extension": ".py",
   "mimetype": "text/x-python",
   "name": "python",
   "nbconvert_exporter": "python",
   "pygments_lexer": "ipython3",
   "version": "3.8.8"
  }
 },
 "nbformat": 4,
 "nbformat_minor": 5
}
